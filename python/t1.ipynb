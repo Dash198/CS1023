{
 "cells": [
  {
   "cell_type": "code",
   "execution_count": 1,
   "metadata": {},
   "outputs": [
    {
     "data": {
      "text/plain": [
       "'hello'"
      ]
     },
     "execution_count": 1,
     "metadata": {},
     "output_type": "execute_result"
    }
   ],
   "source": [
    "x = \"hello\"\n",
    "x"
   ]
  },
  {
   "cell_type": "code",
   "execution_count": 2,
   "metadata": {},
   "outputs": [
    {
     "data": {
      "text/plain": [
       "['apple', 'apple', 'apple']"
      ]
     },
     "execution_count": 2,
     "metadata": {},
     "output_type": "execute_result"
    }
   ],
   "source": [
    "x = y = z = \"apple\"\n",
    "[x,y,z]"
   ]
  },
  {
   "cell_type": "code",
   "execution_count": 3,
   "metadata": {},
   "outputs": [
    {
     "name": "stdout",
     "output_type": "stream",
     "text": [
      "heads tails\n"
     ]
    }
   ],
   "source": [
    "coin = ['heads','tails']\n",
    "x,y = coin\n",
    "print(x,y)"
   ]
  },
  {
   "cell_type": "code",
   "execution_count": 6,
   "metadata": {},
   "outputs": [
    {
     "name": "stdout",
     "output_type": "stream",
     "text": [
      "12\n",
      "Hello World\n"
     ]
    }
   ],
   "source": [
    "x = 5\n",
    "y = 7\n",
    "a = \"Hello \"\n",
    "b = \"World\"\n",
    "print(x+y)\n",
    "print(a+b)"
   ]
  },
  {
   "cell_type": "code",
   "execution_count": 10,
   "metadata": {},
   "outputs": [
    {
     "name": "stdout",
     "output_type": "stream",
     "text": [
      "<class 'int'> <class 'str'>\n"
     ]
    },
    {
     "data": {
      "text/plain": [
       "str"
      ]
     },
     "execution_count": 10,
     "metadata": {},
     "output_type": "execute_result"
    }
   ],
   "source": [
    "print(type(x), type(a))\n",
    "type(a)"
   ]
  },
  {
   "cell_type": "code",
   "execution_count": 14,
   "metadata": {},
   "outputs": [
    {
     "name": "stdout",
     "output_type": "stream",
     "text": [
      "L\n",
      "Single line string\n",
      "Multiline string\n",
      "Python lets us have\n",
      "multiline\n",
      "strings!\n"
     ]
    }
   ],
   "source": [
    "x = \"HELLO\"\n",
    "print(x[2])\n",
    "z = \"Single line string\"\n",
    "print(z)\n",
    "y = \"\"\"Multiline string\n",
    "Python lets us have\n",
    "multiline\n",
    "strings!\"\"\"\n",
    "\n",
    "print(y)"
   ]
  },
  {
   "cell_type": "code",
   "execution_count": 16,
   "metadata": {},
   "outputs": [
    {
     "ename": "TypeError",
     "evalue": "can only concatenate str (not \"int\") to str",
     "output_type": "error",
     "traceback": [
      "\u001b[0;31m---------------------------------------------------------------------------\u001b[0m",
      "\u001b[0;31mTypeError\u001b[0m                                 Traceback (most recent call last)",
      "Cell \u001b[0;32mIn[16], line 9\u001b[0m\n\u001b[1;32m      7\u001b[0m a \u001b[38;5;241m=\u001b[39m \u001b[38;5;124m\"\u001b[39m\u001b[38;5;124mhello\u001b[39m\u001b[38;5;124m\"\u001b[39m\n\u001b[1;32m      8\u001b[0m b \u001b[38;5;241m=\u001b[39m \u001b[38;5;241m5\u001b[39m\n\u001b[0;32m----> 9\u001b[0m \u001b[38;5;28mprint\u001b[39m(\u001b[43ma\u001b[49m\u001b[38;5;241;43m+\u001b[39;49m\u001b[43mb\u001b[49m)\n",
      "\u001b[0;31mTypeError\u001b[0m: can only concatenate str (not \"int\") to str"
     ]
    }
   ],
   "source": [
    "# Single line comment\n",
    "\"\"\"\n",
    "Multi\n",
    "Line\n",
    "Comment\"\"\"\n",
    "\n",
    "a = \"hello\"\n",
    "b = 5\n",
    "print(a+b)"
   ]
  },
  {
   "cell_type": "code",
   "execution_count": 39,
   "metadata": {},
   "outputs": [
    {
     "name": "stdout",
     "output_type": "stream",
     "text": [
      "llo\n",
      "ello, World!\n",
      "Hell\n",
      "!\n",
      "Hello, World!\n",
      "World\n"
     ]
    }
   ],
   "source": [
    "b = \"Hello, World!\"\n",
    "\n",
    "print(b[2:5])\n",
    "print(b[1:])\n",
    "print(b[:4])\n",
    "print(b[-1:])\n",
    "print(b[:16])\n",
    "print(b[-6:-1])"
   ]
  },
  {
   "cell_type": "code",
   "execution_count": 41,
   "metadata": {},
   "outputs": [
    {
     "name": "stdout",
     "output_type": "stream",
     "text": [
      "Price of A1 is 60 rupees.\n",
      "Price of A2 is 3000 rupees.\n"
     ]
    }
   ],
   "source": [
    "price = 60\n",
    "print(f\"Price of A1 is {price} rupees.\")\n",
    "print(f\"Price of A2 is {50*price} rupees.\")"
   ]
  },
  {
   "cell_type": "code",
   "execution_count": 43,
   "metadata": {},
   "outputs": [
    {
     "name": "stdout",
     "output_type": "stream",
     "text": [
      "User is Dash: True\n",
      "User is Devansh: False\n"
     ]
    }
   ],
   "source": [
    "greeting = \"Hello Dash.\"\n",
    "\n",
    "print(f\"User is Dash: {\"Dash\" in greeting}\")\n",
    "print(f\"User is Devansh: {\"Devansh\" in greeting}\")"
   ]
  },
  {
   "cell_type": "code",
   "execution_count": 45,
   "metadata": {},
   "outputs": [
    {
     "name": "stdout",
     "output_type": "stream",
     "text": [
      "2.5\n",
      "2\n"
     ]
    }
   ],
   "source": [
    "print(5/2)\n",
    "print(5//2)"
   ]
  },
  {
   "cell_type": "code",
   "execution_count": 49,
   "metadata": {},
   "outputs": [
    {
     "data": {
      "text/plain": [
       "['S', 'D', 'F', 'C', 'S', '1', '0', '2', '3']"
      ]
     },
     "execution_count": 49,
     "metadata": {},
     "output_type": "execute_result"
    }
   ],
   "source": [
    "l = list(\"SDFCS1023\")\n",
    "l"
   ]
  },
  {
   "cell_type": "code",
   "execution_count": 65,
   "metadata": {},
   "outputs": [
    {
     "name": "stdout",
     "output_type": "stream",
     "text": [
      "B\n",
      "['D', 'E', 'F', 'G', 'H', 'I']\n",
      "['A', 'B', 'C', 'D', 'E', 'F', 'G', 'H']\n",
      "['F', 'G', 'H', 'I', 'J']\n",
      "['D', 'E', 'F', 'G', 'H']\n",
      "['A', 'P', 'D', 'E', 'F', 'G', 'H', 'I', 'J', 'K']\n",
      "['A', 'X', 'Y', 'Z', 'T', 'D', 'E', 'F', 'G', 'H', 'I', 'J', 'K']\n",
      "['A', 'X', 'R', 'Y', 'Z', 'T', 'D', 'E', 'F', 'G', 'H', 'I', 'J', 'K']\n",
      "['A', 'X', 'R', 'Y', 'Z', 'T', 'D', 'E', 'F', 'G', 'H', 'I', 'J', 'K', '1', '2', '3', '4']\n",
      "['A', 'X', 'R', 'Y', 'Z', 'T', 'D', 'E', 'F', 'G', 'H', 'I', 'J', 'K', '1', '2', '3', '4', '1', '2', '3', '4']\n",
      "['1', '2', '3', '4', 'A', 'X', 'R', 'Y', 'Z', 'T', 'D', 'E', 'F', 'G', 'H', 'I', 'J', 'K', '1', '2', '3', '4']\n",
      "[1, 3]\n",
      "[1]\n"
     ]
    }
   ],
   "source": [
    "lst = ['A','B','C','D','E','F','G','H','I','J']\n",
    "print(lst[1])\n",
    "print(lst[3:9])\n",
    "print(lst[:8])\n",
    "print(lst[5:])\n",
    "print(lst[-7:-2])\n",
    "lst.append(\"K\")\n",
    "lst[1:3] = [\"P\"]\n",
    "print(lst)\n",
    "lst[1:2]= ['X','Y','Z','T']\n",
    "print(lst)\n",
    "lst.insert(2,'R')\n",
    "print(lst)\n",
    "lst1 = ['1','2','3','4']\n",
    "lst.extend(lst1)\n",
    "print(lst)\n",
    "print(lst + lst1)\n",
    "print(lst1+lst)\n",
    "\n",
    "lst2 = [1,2,3]\n",
    "lst2.remove(2)\n",
    "print(lst2)\n",
    "lst2.pop()\n",
    "print(lst2)"
   ]
  },
  {
   "cell_type": "code",
   "execution_count": 68,
   "metadata": {},
   "outputs": [
    {
     "name": "stdout",
     "output_type": "stream",
     "text": [
      "(4, 2, 3)\n",
      "(4, 2, 3, 1)\n"
     ]
    }
   ],
   "source": [
    "tup = (1,2,3)\n",
    "lst = list(tup)\n",
    "lst[0]=4\n",
    "tup = tuple(lst)\n",
    "print(tup)\n",
    "y = (1,)\n",
    "tup += y\n",
    "print(tup)"
   ]
  },
  {
   "cell_type": "code",
   "execution_count": 72,
   "metadata": {},
   "outputs": [
    {
     "name": "stdout",
     "output_type": "stream",
     "text": [
      "1 2 3\n",
      "1 [2, 3, 4] 5\n",
      "[1, 2, 3] 4 5\n",
      "1 2 [3, 4, 5]\n"
     ]
    }
   ],
   "source": [
    "tup = (1,2,3)\n",
    "x,y,z = tup\n",
    "print(x,y,z)\n",
    "tup = (1,2,3,4,5)\n",
    "x,*y,z = tup\n",
    "print(x,y,z)\n",
    "*x,y,z = tup\n",
    "print(x,y,z)\n",
    "x,y,*z = tup\n",
    "print(x,y,z)"
   ]
  },
  {
   "cell_type": "code",
   "execution_count": 97,
   "metadata": {},
   "outputs": [
    {
     "name": "stdout",
     "output_type": "stream",
     "text": [
      "1\n",
      "2\n",
      "3\n",
      "4\n",
      "5\n",
      "True\n",
      "False\n",
      "{1, 2, 3, 4, 5, 6}\n",
      "{1, 2, 3, 4, 5, 6, 9, 10}\n",
      "{2, 3, 4, 5, 6, 9, 10}\n",
      "{2, 3, 4, 5, 6, 9, 10, 11, 12}\n",
      "{10}\n"
     ]
    }
   ],
   "source": [
    "set1 = set([1,2,3,4,5])\n",
    "for x in set1:\n",
    "    print(x)\n",
    "\n",
    "print(3 in set1)\n",
    "print(6 in set1)\n",
    "set1.add(6)\n",
    "print(set1)\n",
    "x = {9,10}\n",
    "set1.update(x)\n",
    "print(set1)\n",
    "set1.remove(1)\n",
    "print(set1)\n",
    "\n",
    "set2 = set([10,11,12])\n",
    "print(set1.union(set2))\n",
    "print(set1.intersection(set2))"
   ]
  },
  {
   "cell_type": "code",
   "execution_count": 99,
   "metadata": {},
   "outputs": [
    {
     "name": "stdout",
     "output_type": "stream",
     "text": [
      "dict_items([('Brand', 'Lamborghini'), ('Model', 'Aventador'), ('Year', 2008)])\n",
      "dict_keys(['Brand', 'Model', 'Year'])\n",
      "dict_values(['Lamborghini', 'Aventador', 2008])\n"
     ]
    }
   ],
   "source": [
    "dict1 = {\n",
    "    \"Brand\":\"Lamborghini\",\n",
    "    \"Model\":\"Aventador\",\n",
    "    \"Year\":2008,\n",
    "}\n",
    "print(dict1.items())\n",
    "print(dict1.keys())\n",
    "print(dict1.values())"
   ]
  }
 ],
 "metadata": {
  "kernelspec": {
   "display_name": "base",
   "language": "python",
   "name": "python3"
  },
  "language_info": {
   "codemirror_mode": {
    "name": "ipython",
    "version": 3
   },
   "file_extension": ".py",
   "mimetype": "text/x-python",
   "name": "python",
   "nbconvert_exporter": "python",
   "pygments_lexer": "ipython3",
   "version": "3.12.8"
  }
 },
 "nbformat": 4,
 "nbformat_minor": 2
}
