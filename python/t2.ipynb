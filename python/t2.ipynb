{
 "cells": [
  {
   "cell_type": "code",
   "execution_count": 4,
   "metadata": {},
   "outputs": [
    {
     "data": {
      "text/plain": [
       "'isthay isway away entencesay '"
      ]
     },
     "execution_count": 4,
     "metadata": {},
     "output_type": "execute_result"
    }
   ],
   "source": [
    "def makeWordPL(word, startsWithVowel):\n",
    "    if(startsWithVowel):\n",
    "        return word+\"way\"\n",
    "    else:\n",
    "        if word[0] in \"aeiou\":\n",
    "            return word+\"ay\"\n",
    "        else:\n",
    "            return makeWordPL(word[1:]+word[0],False)\n",
    "\n",
    "def makeSentencePL(sentence):\n",
    "    sList = sentence.split()\n",
    "    nS = \"\"\n",
    "    for word in sList:\n",
    "        if word[0] in \"aeiou\":\n",
    "            nS += makeWordPL(word, True)\n",
    "        else:\n",
    "            nS += makeWordPL(word, False)\n",
    "\n",
    "        nS+=\" \"\n",
    "\n",
    "    return nS\n",
    "\n",
    "makeSentencePL(\"this is a sentence\")"
   ]
  },
  {
   "cell_type": "code",
   "execution_count": 1,
   "metadata": {},
   "outputs": [
    {
     "name": "stdout",
     "output_type": "stream",
     "text": [
      "ho\n",
      "[1, 3]\n",
      "(1, 4)\n"
     ]
    }
   ],
   "source": [
    "def firstAndLast(seq):\n",
    "    return seq[:1]+seq[-1:]\n",
    "\n",
    "print(firstAndLast(\"hello\"))\n",
    "print(firstAndLast([1,2,3]))\n",
    "print(firstAndLast((1,2,3,4)))"
   ]
  },
  {
   "cell_type": "code",
   "execution_count": 2,
   "metadata": {},
   "outputs": [
    {
     "name": "stdout",
     "output_type": "stream",
     "text": [
      "Name: Sheamus \n",
      "Age: 50\n"
     ]
    }
   ],
   "source": [
    "class Guy:\n",
    "    def __init__(self, name, age):\n",
    "        self.name = name\n",
    "        self.age = age\n",
    "\n",
    "    def __str__(self):\n",
    "        print(\"Name:\",self.name,\"\\nAge:\",self.age)\n",
    "\n",
    "fella = Guy(\"Sheamus\",50)\n",
    "fella.__str__()"
   ]
  },
  {
   "cell_type": "code",
   "execution_count": 8,
   "metadata": {},
   "outputs": [],
   "source": [
    "def find_majority(lst):\n",
    "    lset = set(lst)\n",
    "    n=len(lst)\n",
    "    for x in lset:\n",
    "        frq = 0\n",
    "        for i in lst:\n",
    "            if i==x:\n",
    "                frq+=1\n",
    "        \n",
    "        if frq > n/2:\n",
    "            return x\n",
    "        \n",
    "    return None\n",
    "\n",
    "\n",
    "nums = [1,2,3,4]\n",
    "find_majority(nums)"
   ]
  },
  {
   "cell_type": "code",
   "execution_count": 73,
   "metadata": {},
   "outputs": [
    {
     "ename": "IndexError",
     "evalue": "pop index out of range",
     "output_type": "error",
     "traceback": [
      "\u001b[0;31m---------------------------------------------------------------------------\u001b[0m",
      "\u001b[0;31mIndexError\u001b[0m                                Traceback (most recent call last)",
      "Cell \u001b[0;32mIn[73], line 15\u001b[0m\n\u001b[1;32m     13\u001b[0m l1\u001b[38;5;241m=\u001b[39m[(\u001b[38;5;241m1\u001b[39m,\u001b[38;5;241m3\u001b[39m),(\u001b[38;5;241m2\u001b[39m,\u001b[38;5;241m6\u001b[39m),(\u001b[38;5;241m8\u001b[39m,\u001b[38;5;241m10\u001b[39m),(\u001b[38;5;241m9\u001b[39m,\u001b[38;5;241m11\u001b[39m)]\n\u001b[1;32m     14\u001b[0m l2\u001b[38;5;241m=\u001b[39m[(\u001b[38;5;241m1\u001b[39m,\u001b[38;5;241m5\u001b[39m),(\u001b[38;5;241m6\u001b[39m,\u001b[38;5;241m10\u001b[39m),(\u001b[38;5;241m11\u001b[39m,\u001b[38;5;241m15\u001b[39m)]\n\u001b[0;32m---> 15\u001b[0m \u001b[43mmerge_overlap\u001b[49m\u001b[43m(\u001b[49m\u001b[43ml1\u001b[49m\u001b[43m)\u001b[49m\n",
      "Cell \u001b[0;32mIn[73], line 10\u001b[0m, in \u001b[0;36mmerge_overlap\u001b[0;34m(lst)\u001b[0m\n\u001b[1;32m      8\u001b[0m         lst\u001b[38;5;241m.\u001b[39mpop(i\u001b[38;5;241m+\u001b[39m\u001b[38;5;241m1\u001b[39m)\n\u001b[1;32m      9\u001b[0m         lst\u001b[38;5;241m.\u001b[39mpop(i\u001b[38;5;241m+\u001b[39m\u001b[38;5;241m2\u001b[39m)\n\u001b[0;32m---> 10\u001b[0m         \u001b[38;5;28;01mreturn\u001b[39;00m \u001b[43mmerge_overlap\u001b[49m\u001b[43m(\u001b[49m\u001b[43mlst\u001b[49m\u001b[43m)\u001b[49m\n\u001b[1;32m     11\u001b[0m \u001b[38;5;28;01mreturn\u001b[39;00m lst\n",
      "Cell \u001b[0;32mIn[73], line 10\u001b[0m, in \u001b[0;36mmerge_overlap\u001b[0;34m(lst)\u001b[0m\n\u001b[1;32m      8\u001b[0m         lst\u001b[38;5;241m.\u001b[39mpop(i\u001b[38;5;241m+\u001b[39m\u001b[38;5;241m1\u001b[39m)\n\u001b[1;32m      9\u001b[0m         lst\u001b[38;5;241m.\u001b[39mpop(i\u001b[38;5;241m+\u001b[39m\u001b[38;5;241m2\u001b[39m)\n\u001b[0;32m---> 10\u001b[0m         \u001b[38;5;28;01mreturn\u001b[39;00m \u001b[43mmerge_overlap\u001b[49m\u001b[43m(\u001b[49m\u001b[43mlst\u001b[49m\u001b[43m)\u001b[49m\n\u001b[1;32m     11\u001b[0m \u001b[38;5;28;01mreturn\u001b[39;00m lst\n",
      "Cell \u001b[0;32mIn[73], line 9\u001b[0m, in \u001b[0;36mmerge_overlap\u001b[0;34m(lst)\u001b[0m\n\u001b[1;32m      7\u001b[0m         lst\u001b[38;5;241m.\u001b[39minsert(i,ele)\n\u001b[1;32m      8\u001b[0m         lst\u001b[38;5;241m.\u001b[39mpop(i\u001b[38;5;241m+\u001b[39m\u001b[38;5;241m1\u001b[39m)\n\u001b[0;32m----> 9\u001b[0m         \u001b[43mlst\u001b[49m\u001b[38;5;241;43m.\u001b[39;49m\u001b[43mpop\u001b[49m\u001b[43m(\u001b[49m\u001b[43mi\u001b[49m\u001b[38;5;241;43m+\u001b[39;49m\u001b[38;5;241;43m2\u001b[39;49m\u001b[43m)\u001b[49m\n\u001b[1;32m     10\u001b[0m         \u001b[38;5;28;01mreturn\u001b[39;00m merge_overlap(lst)\n\u001b[1;32m     11\u001b[0m \u001b[38;5;28;01mreturn\u001b[39;00m lst\n",
      "\u001b[0;31mIndexError\u001b[0m: pop index out of range"
     ]
    }
   ],
   "source": [
    "def merge_overlap(lst):\n",
    "    lst.sort()\n",
    "    n=len(lst)\n",
    "    for i in range(n-1):\n",
    "        if lst[i][1]>lst[i+1][0]:\n",
    "            ele=tuple([lst[i][0],lst[i+1][1]])\n",
    "            lst.insert(i,ele)\n",
    "            lst.pop(i+1)\n",
    "            lst.pop(i+2)\n",
    "            return merge_overlap(lst)\n",
    "    return lst\n",
    "\n",
    "l1=[(1,3),(2,6),(8,10),(9,11)]\n",
    "l2=[(1,5),(6,10),(11,15)]\n",
    "merge_overlap(l1)"
   ]
  },
  {
   "cell_type": "code",
   "execution_count": null,
   "metadata": {},
   "outputs": [
    {
     "name": "stdout",
     "output_type": "stream",
     "text": [
      "sandwich\n",
      "tea\n",
      "salad\n",
      "tea costs 7.\n",
      "Total price is 7\n",
      "sandwich\n",
      "tea\n",
      "salad\n",
      "tea costs 7.\n",
      "Total price is 7\n",
      "sandwich\n",
      "tea\n",
      "salad\n",
      "tea costs 7.\n",
      "Total price is 7\n",
      "sandwich\n",
      "tea\n",
      "salad\n",
      "tea costs 7.\n",
      "Total price is 7\n",
      "sandwich\n",
      "tea\n",
      "salad\n",
      "You fool, order from the menu!\n",
      "sandwich\n",
      "tea\n",
      "salad\n",
      "You fool, order from the menu!\n",
      "sandwich\n",
      "tea\n",
      "salad\n"
     ]
    }
   ],
   "source": [
    "menu = {'sandwich':10, 'tea':7, 'salad':9}\n",
    "total=0\n",
    "\n",
    "while(True):\n",
    "    for item,price in menu.items():\n",
    "        print(f\"{item}\")\n",
    "    order=input(\"Enter your order: \")\n",
    "\n",
    "    if not order:\n",
    "        break\n",
    "    elif order.lower() not in menu.keys():\n",
    "        print(\"You fool, order from the menu!\")     \n",
    "    else:\n",
    "        print(f\"{order} costs {menu[order]}.\")\n",
    "        total+=menu[order]\n",
    "        print(f\"Total price is {menu[order]}\")"
   ]
  }
 ],
 "metadata": {
  "kernelspec": {
   "display_name": "base",
   "language": "python",
   "name": "python3"
  },
  "language_info": {
   "codemirror_mode": {
    "name": "ipython",
    "version": 3
   },
   "file_extension": ".py",
   "mimetype": "text/x-python",
   "name": "python",
   "nbconvert_exporter": "python",
   "pygments_lexer": "ipython3",
   "version": "3.12.8"
  }
 },
 "nbformat": 4,
 "nbformat_minor": 2
}
