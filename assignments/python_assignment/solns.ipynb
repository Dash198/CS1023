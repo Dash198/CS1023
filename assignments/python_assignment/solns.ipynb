{
 "cells": [
  {
   "cell_type": "code",
   "execution_count": null,
   "metadata": {},
   "outputs": [],
   "source": [
    "# Problem 1\n",
    "\n",
    "def no_moves(n):\n",
    "    if n==1:            # Base case: n==1\n",
    "        return 0\n",
    "    elif n%2==0:\n",
    "        n/=2            # Even case\n",
    "    else:\n",
    "        n = 3*n + 1     # Odd case\n",
    "    \n",
    "    return 1 + no_moves(n)"
   ]
  },
  {
   "cell_type": "code",
   "execution_count": 18,
   "metadata": {},
   "outputs": [],
   "source": [
    "# Problem 2\n",
    "\n",
    "def reverse_line(in_file):\n",
    "\n",
    "    f = open(in_file,'r')       # Open the file\n",
    "    in_lines = f.readlines()        # Store lines into a list\n",
    "    in_file = in_file.split('.')            \n",
    "    out_file = in_file[0] + \"_op.\" + in_file[1]      # Define the output file name\n",
    "    fo = open(out_file, 'w')\n",
    "    for line in in_lines:           # Split each line into words and reverse each word (to prevent \\n from being in line)\n",
    "        newline = \"\"\n",
    "        words = line.split()\n",
    "        \n",
    "        for word in words[::-1]:\n",
    "            newline += word[::-1] + \" \"\n",
    "        \n",
    "        newline += \"\\n\"\n",
    "\n",
    "        fo.write(newline)\n",
    "    \n",
    "    f.close()\n",
    "    fo.close()      \n",
    "\n",
    "\n",
    "reverse_line('f1.txt')"
   ]
  },
  {
   "cell_type": "code",
   "execution_count": 1,
   "metadata": {},
   "outputs": [
    {
     "name": "stdout",
     "output_type": "stream",
     "text": [
      "No. of characters: 170\n",
      "No. of words: 28\n",
      "No. of lines: 11\n",
      "No. of unique words: 20\n"
     ]
    }
   ],
   "source": [
    "# Problem 3\n",
    "\n",
    "def wordcount(file):\n",
    "\n",
    "    f = open(file, 'r')     # Open the arg file\n",
    "    unique_words = set()\n",
    "    line_count = 0\n",
    "    word_count = 0\n",
    "    char_count = 0\n",
    "\n",
    "    lines = f.readlines()\n",
    "    line_count = len(lines)\n",
    "    \n",
    "    for line in lines:\n",
    "        char_count += len(line)\n",
    "        words = line.split()\n",
    "\n",
    "        word_count += len(words)\n",
    "        for word in words:\n",
    "            unique_words.add(word)\n",
    "        \n",
    "    print(\"No. of characters:\",char_count)\n",
    "    print(\"No. of words:\",word_count)\n",
    "    print(\"No. of lines:\",line_count)\n",
    "    print(\"No. of unique words:\",len(unique_words))\n",
    "\n",
    "wordcount(\"wcfile.txt\")"
   ]
  },
  {
   "cell_type": "code",
   "execution_count": 1,
   "metadata": {},
   "outputs": [
    {
     "name": "stdout",
     "output_type": "stream",
     "text": [
      "{'c': [3, 4]}\n",
      "{'d': [None, 3], 'c': [4, None]}\n",
      "{'d': [None, 4], 'c': [3, None]}\n"
     ]
    }
   ],
   "source": [
    "# Problem 4\n",
    "\n",
    "def dictdiff(dict1, dict2):\n",
    "\n",
    "    keys1 = list(dict1.keys())\n",
    "    keys2 = list(dict2.keys())\n",
    "    keys = list(set(keys1 + keys2))\n",
    "\n",
    "    fdict = {}\n",
    "    for key in keys:\n",
    "\n",
    "        if key in keys1:\n",
    "            e1 = dict1[key]\n",
    "        else:\n",
    "            e1 = None\n",
    "        \n",
    "        if key in keys2:\n",
    "            e2 = dict2[key]\n",
    "        else:\n",
    "            e2 = None\n",
    "\n",
    "        if e1 == e2:\n",
    "            continue\n",
    "        else:\n",
    "            fdict[key] = [e1,e2]\n",
    "\n",
    "        \n",
    "    return fdict\n",
    "\n",
    "\n",
    "d1 = {'a' : 1, 'b' : 2, 'c' : 3}\n",
    "d2 = {'a' : 1, 'b' : 2, 'c' : 4}\n",
    "d3 = {'a' : 1, 'b' : 2, 'd' : 3}\n",
    "d4 = {'a' : 1, 'b' : 2, 'd' : 4}\n",
    "\n",
    "print(dictdiff(d1,d2))\n",
    "print(dictdiff(d2,d3))\n",
    "print(dictdiff(d1,d4))\n"
   ]
  },
  {
   "cell_type": "code",
   "execution_count": 19,
   "metadata": {},
   "outputs": [
    {
     "data": {
      "text/plain": [
       "[{'first': 'Narendra', 'last': 'Modi', 'email': 'naren@modi.co.in'},\n",
       " {'first': 'Vladimir', 'last': 'Putin', 'email': 'president@kremvax.ru'},\n",
       " {'first': 'Donald', 'last': 'Trump', 'email': 'president@whitehouse.gov'}]"
      ]
     },
     "execution_count": 19,
     "metadata": {},
     "output_type": "execute_result"
    }
   ],
   "source": [
    "# Problem 5\n",
    "\n",
    "PEOPLE = [{'first':'Narendra', 'last':'Modi',\n",
    "'email':'naren@modi.co.in'}, {'first':'Donald',\n",
    "'last':'Trump','email':'president@whitehouse.gov'},\n",
    "{'first':'Vladimir', 'last':'Putin',\n",
    "'email':'president@kremvax.ru'}]\n",
    "\n",
    "def alphabetize_names(PEOPLE):\n",
    "    new_dict = sorted(PEOPLE, key=lambda person:(person['last'],person['first']))\n",
    "    return new_dict\n",
    "\n",
    "alphabetize_names(PEOPLE)"
   ]
  },
  {
   "cell_type": "code",
   "execution_count": 8,
   "metadata": {},
   "outputs": [
    {
     "data": {
      "text/plain": [
       "'elementary'"
      ]
     },
     "execution_count": 8,
     "metadata": {},
     "output_type": "execute_result"
    }
   ],
   "source": [
    "# Problem 6\n",
    "\n",
    "def highest_freq(word):\n",
    "    freqs = [0] * 26\n",
    "    for c in word:\n",
    "        freqs[ord(c) - 97] += 1\n",
    "    \n",
    "    return max(freqs)\n",
    "\n",
    "def most_repeating_word(words):\n",
    "    mr_word = words[0]\n",
    "    best_freq = highest_freq(mr_word)\n",
    "\n",
    "    for word in words:\n",
    "        if best_freq <= highest_freq(word):\n",
    "            mr_word = word\n",
    "            best_freq = highest_freq(word)\n",
    "        \n",
    "    return mr_word\n",
    "\n",
    "\n",
    "words = ['this', 'is', 'an', 'elementary', 'test', 'example']\n",
    "most_repeating_word(words)\n"
   ]
  },
  {
   "cell_type": "code",
   "execution_count": 12,
   "metadata": {},
   "outputs": [
    {
     "name": "stdout",
     "output_type": "stream",
     "text": [
      "Trump Donald 7.85\n",
      "\n",
      "Putin Vladimir 3.626\n",
      "\n",
      "Modi Narendra 10.603\n",
      "\n",
      "\n"
     ]
    }
   ],
   "source": [
    "# Problem 7\n",
    "\n",
    "def format_sort_records(recordList):\n",
    "\n",
    "    outstr = \"\"\n",
    "    for (x,y,z) in recordList:\n",
    "        outstr +=   y + \" \" + x + \" \" + str(z) + \"\\n\\n\"\n",
    "\n",
    "    return outstr\n",
    "\n",
    "PEOPLE = [('Donald', 'Trump', 7.85), ('Vladimir', 'Putin',\n",
    "3.626), ('Narendra', 'Modi', 10.603)]\n",
    "\n",
    "print(format_sort_records(PEOPLE))"
   ]
  },
  {
   "cell_type": "code",
   "execution_count": 16,
   "metadata": {},
   "outputs": [
    {
     "data": {
      "text/plain": [
       "{'nobody': -2, 'root': 0, 'daemon': 1}"
      ]
     },
     "execution_count": 16,
     "metadata": {},
     "output_type": "execute_result"
    }
   ],
   "source": [
    "# Problem 8\n",
    "\n",
    "def passwd_to_dict(filename):\n",
    "    f = open(filename,'r')\n",
    "    records = f.readlines()\n",
    "    pwd = {}\n",
    "    for line in records:\n",
    "        values = line.split(':')\n",
    "        usrname = values[0]\n",
    "        id = int(values[2])\n",
    "        pwd[usrname] = id\n",
    "\n",
    "    return pwd\n",
    "\n",
    "passwd_to_dict('passwd.txt')"
   ]
  },
  {
   "cell_type": "code",
   "execution_count": 19,
   "metadata": {},
   "outputs": [
    {
     "data": {
      "text/plain": [
       "['cat', 'act']"
      ]
     },
     "execution_count": 19,
     "metadata": {},
     "output_type": "execute_result"
    }
   ],
   "source": [
    "# Problem 9\n",
    "\n",
    "gematria_score = {chr(i+96):i for i in range(1,27)}\n",
    "\n",
    "def gematria_for(word):\n",
    "    score = 0\n",
    "    valid_chars = gematria_score.keys()\n",
    "    for char in word:\n",
    "        if char in valid_chars:\n",
    "            score += gematria_score[char]\n",
    "\n",
    "    return score\n",
    "\n",
    "def gematria_equal_words(word, wordList):\n",
    "    expScore = gematria_for(word)\n",
    "    matching = []\n",
    "\n",
    "    for w in wordList:\n",
    "        if gematria_for(w) == expScore:\n",
    "            matching.append(w)\n",
    "\n",
    "    return matching\n",
    "\n",
    "DICT_WORDS = [\"cat\", \"bat\", \"act\", \"tap\", \"pat\", \"rat\", \"tar\", \"art\", \"zap\", \"ax\", \"fox\", \"box\"]\n",
    "gematria_equal_words('cat', DICT_WORDS)"
   ]
  },
  {
   "cell_type": "code",
   "execution_count": null,
   "metadata": {},
   "outputs": [
    {
     "name": "stdout",
     "output_type": "stream",
     "text": [
      "eaafd\n",
      "bdcabcbcec\n",
      "!%#%%\n",
      "!@#$%@!$@!\n"
     ]
    }
   ],
   "source": [
    "# Problem 10\n",
    "import random\n",
    "def create_password_generator(sample_space):\n",
    "    def create_pwd(length):\n",
    "        pwd=\"\"\n",
    "        sample_space_length = len(sample_space)\n",
    "        for i in range(length):\n",
    "            index = random.randint(0,sample_space_length-1)\n",
    "            pwd += sample_space[index]\n",
    "\n",
    "        return pwd\n",
    "\n",
    "    return create_pwd\n",
    "\n",
    "alpha_password = create_password_generator('abcdef')\n",
    "symbol_password = create_password_generator('!@#$%')\n",
    "\n",
    "print(alpha_password(5))rr = [100, 4, 200, 1, 3, 2]\n",
    "print(alpha_password(10)) \n",
    "print(symbol_password(5)) \n",
    "print(symbol_password(10))"
   ]
  },
  {
   "cell_type": "code",
   "execution_count": null,
   "metadata": {},
   "outputs": [
    {
     "name": "stdout",
     "output_type": "stream",
     "text": [
      "a b c a b \n"
     ]
    },
    {
     "data": {
      "text/plain": [
       "<__main__.Circle at 0x723366f52900>"
      ]
     },
     "execution_count": 9,
     "metadata": {},
     "output_type": "execute_result"
    }
   ],
   "source": [
    "# Problem 11\n",
    "\n",
    "class Circle:\n",
    "\n",
    "    def __init__(self, str, n):\n",
    "        self.out = \"\"\n",
    "        x = len(str)\n",
    "        for i in range(n):\n",
    "            self.out += str[i%x] + \" \"\n",
    "        \n",
    "        print(self.out)\n",
    "    \n",
    "Circle('abc',5)"
   ]
  },
  {
   "cell_type": "code",
   "execution_count": 1,
   "metadata": {},
   "outputs": [],
   "source": [
    "# Problem 12\n",
    "\n",
    "class Animal:\n",
    "\n",
    "    def __init__(self, name, color, legs):\n",
    "        self.name = name\n",
    "        self.color = color\n",
    "        self.legs = legs\n",
    "\n",
    "class Cage:\n",
    "    def __init__(self, id, anims):\n",
    "        self.id = id\n",
    "        self.animals = anims\n",
    "        pass\n",
    "\n",
    "class ZooManager:\n",
    "\n",
    "    def __init__(self):\n",
    "        self.cages = {}\n",
    "    \n",
    "    def add_new_animal_to_cage(self, id, animal):\n",
    "        if id in self.cages.keys():\n",
    "            self.cages[id].animals.append(animal)\n",
    "        \n",
    "        else:\n",
    "            self.cages[id] = Cage(id,[animal])\n",
    "\n",
    "    def add_multiple_animals_to_cage(self,id,animals):\n",
    "        if id in self.cages.keys():\n",
    "            self.cages[id].animals.extend(animals)\n",
    "        \n",
    "        else:\n",
    "            self.cages[id] = Cage(id,animals)\n",
    "\n",
    "    def filter_animals_by_color(self,color):\n",
    "        animals = []\n",
    "        for id in self.cages.keys():\n",
    "            for animal in self.cages[id].animals:\n",
    "                if animal.color == color:\n",
    "                    animals.append(animal)\n",
    "\n",
    "        return animals\n",
    "    \n",
    "    def filter_animals_by_legs(self, legs):\n",
    "        animals = []\n",
    "        for id in self.cages.keys():\n",
    "            for animal in self.cages[id].animals:\n",
    "                if animal.legs == legs:\n",
    "                    animals.append(animal)\n",
    "\n",
    "        return animals  \n",
    "    \n",
    "\n",
    "    def calculate_total_legs(self):\n",
    "        total_legs = 0\n",
    "        for id in self.cages.keys():\n",
    "            for animal in self.cages[id].animals:\n",
    "                total_legs += animal.legs\n",
    "\n",
    "        return total_legs\n"
   ]
  },
  {
   "cell_type": "code",
   "execution_count": 7,
   "metadata": {},
   "outputs": [],
   "source": [
    "# Problem 13\n",
    "\n",
    "import math\n",
    "\n",
    "def gen_pi(n):\n",
    "\n",
    "    if n>10 :\n",
    "        print(\"Error: Maximum decimal limit of 10 exceeded!\")\n",
    "        return None\n",
    "    else:\n",
    "        return round(math.pi,n)"
   ]
  },
  {
   "cell_type": "code",
   "execution_count": 13,
   "metadata": {},
   "outputs": [
    {
     "name": "stdout",
     "output_type": "stream",
     "text": [
      "3 ece\n"
     ]
    }
   ],
   "source": [
    "# Problem 14\n",
    "\n",
    "def longest_substring_with_atmost_two_unique_chars(s):\n",
    "    x = len(s)\n",
    "\n",
    "    length = x\n",
    "    while length>0:\n",
    "        for sindex in range(x-length+1):\n",
    "            freqs = [0]*26\n",
    "            for index in range(sindex, sindex + length):\n",
    "                freqs[ord(s[index])-97] = 1\n",
    "            \n",
    "            if sum(freqs) <= 2:\n",
    "                print(length, s[sindex:sindex+length])\n",
    "                return\n",
    "        \n",
    "        length -= 1\n",
    "            \n",
    "longest_substring_with_atmost_two_unique_chars(\"eceba\")"
   ]
  },
  {
   "cell_type": "code",
   "execution_count": 15,
   "metadata": {},
   "outputs": [
    {
     "data": {
      "text/plain": [
       "[1, 2, 3, 4]"
      ]
     },
     "execution_count": 15,
     "metadata": {},
     "output_type": "execute_result"
    }
   ],
   "source": [
    "# Problem 15\n",
    "\n",
    "def longest_sublist_of_consective_ints(lst):\n",
    "    lst.sort()\n",
    "\n",
    "    x = len(lst)\n",
    "    length = x\n",
    "    while length>0:\n",
    "        for sindex in range(x-length+1):\n",
    "            no_consecs = 0\n",
    "            slst = lst[sindex:sindex+length]\n",
    "            diff = slst[0]\n",
    "            for i in range(length):\n",
    "                if slst[i] - i != diff:\n",
    "                    break\n",
    "\n",
    "                no_consecs+=1\n",
    "            if no_consecs == length:\n",
    "                return slst\n",
    "        \n",
    "        length-=1\n",
    "\n",
    "arr = [100, 4, 200, 1, 3, 2]\n",
    "\n",
    "longest_sublist_of_consective_ints(arr)"
   ]
  }
 ],
 "metadata": {
  "kernelspec": {
   "display_name": "base",
   "language": "python",
   "name": "python3"
  },
  "language_info": {
   "codemirror_mode": {
    "name": "ipython",
    "version": 3
   },
   "file_extension": ".py",
   "mimetype": "text/x-python",
   "name": "python",
   "nbconvert_exporter": "python",
   "pygments_lexer": "ipython3",
   "version": "3.12.8"
  }
 },
 "nbformat": 4,
 "nbformat_minor": 2
}
